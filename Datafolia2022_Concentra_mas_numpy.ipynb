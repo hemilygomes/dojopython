{
  "nbformat": 4,
  "nbformat_minor": 0,
  "metadata": {
    "colab": {
      "name": "Datafolia2022_Concentra_mas_numpy.ipynb",
      "provenance": [],
      "collapsed_sections": [],
      "authorship_tag": "ABX9TyNVBP0V+tyj1/zXojYeBEeC",
      "include_colab_link": true
    },
    "kernelspec": {
      "name": "python3",
      "display_name": "Python 3"
    },
    "language_info": {
      "name": "python"
    }
  },
  "cells": [
    {
      "cell_type": "markdown",
      "metadata": {
        "id": "view-in-github",
        "colab_type": "text"
      },
      "source": [
        "<a href=\"https://colab.research.google.com/github/hemilygomes/dojopython/blob/main/Datafolia2022_Concentra_mas_numpy.ipynb\" target=\"_parent\"><img src=\"https://colab.research.google.com/assets/colab-badge.svg\" alt=\"Open In Colab\"/></a>"
      ]
    },
    {
      "cell_type": "markdown",
      "source": [
        "#Concentra mas Numpy"
      ],
      "metadata": {
        "id": "WzohCgH2YvcI"
      }
    },
    {
      "cell_type": "code",
      "source": [
        "import numpy as np"
      ],
      "metadata": {
        "id": "3YWAeA0LaOQB"
      },
      "execution_count": 32,
      "outputs": []
    },
    {
      "cell_type": "markdown",
      "source": [
        "###Criando um vetor com os seguintes valores [1,2,3,4,5], chame-o de vetA"
      ],
      "metadata": {
        "id": "q3e9SlHnaCDX"
      }
    },
    {
      "cell_type": "code",
      "source": [
        "vetA = np.array([1,2,3,4,5])"
      ],
      "metadata": {
        "id": "nDnUj27waKjG"
      },
      "execution_count": 33,
      "outputs": []
    },
    {
      "cell_type": "markdown",
      "source": [
        "###Exiba os 3 primeiros elementos"
      ],
      "metadata": {
        "id": "iHiIVu1vaqrI"
      }
    },
    {
      "cell_type": "code",
      "source": [
        "vetA[0:3]"
      ],
      "metadata": {
        "colab": {
          "base_uri": "https://localhost:8080/"
        },
        "id": "zNWbnyu-axBP",
        "outputId": "d8062289-3d7c-4f0c-9dee-c302da8210d7"
      },
      "execution_count": 34,
      "outputs": [
        {
          "output_type": "execute_result",
          "data": {
            "text/plain": [
              "array([1, 2, 3])"
            ]
          },
          "metadata": {},
          "execution_count": 34
        }
      ]
    },
    {
      "cell_type": "markdown",
      "source": [
        "###Exiba todos os valores após o quinto elemento\n"
      ],
      "metadata": {
        "id": "EV7kzo9dppr6"
      }
    },
    {
      "cell_type": "code",
      "source": [
        "vetA[5:]"
      ],
      "metadata": {
        "colab": {
          "base_uri": "https://localhost:8080/"
        },
        "id": "yiX2uppEpxBU",
        "outputId": "5d654cbb-efac-4528-9421-2c06680904e7"
      },
      "execution_count": 35,
      "outputs": [
        {
          "output_type": "execute_result",
          "data": {
            "text/plain": [
              "array([], dtype=int64)"
            ]
          },
          "metadata": {},
          "execution_count": 35
        }
      ]
    },
    {
      "cell_type": "markdown",
      "source": [
        "###Exiba os 3 últimos elementos"
      ],
      "metadata": {
        "id": "_6q1UH1ip6PG"
      }
    },
    {
      "cell_type": "code",
      "source": [
        "vetA[-3:]"
      ],
      "metadata": {
        "colab": {
          "base_uri": "https://localhost:8080/"
        },
        "id": "FuNFMqmgqCVH",
        "outputId": "ebafc8d8-da0e-40e7-8f87-c20aca1ca028"
      },
      "execution_count": 36,
      "outputs": [
        {
          "output_type": "execute_result",
          "data": {
            "text/plain": [
              "array([3, 4, 5])"
            ]
          },
          "metadata": {},
          "execution_count": 36
        }
      ]
    },
    {
      "cell_type": "markdown",
      "source": [
        "###Exiba os valores de vetA entre o 5 elemento até o penúltimo elemento"
      ],
      "metadata": {
        "id": "Zgb71Ek0qdNE"
      }
    },
    {
      "cell_type": "code",
      "source": [
        "vetor=np.array([0,1,2,3,4,5,6,7,8,9,10])"
      ],
      "metadata": {
        "id": "URnOOmTIrig1"
      },
      "execution_count": 37,
      "outputs": []
    },
    {
      "cell_type": "code",
      "source": [
        "vetor[5:-1]"
      ],
      "metadata": {
        "colab": {
          "base_uri": "https://localhost:8080/"
        },
        "id": "wgduL-SVridf",
        "outputId": "07c06838-6ca0-4182-d8b3-eb13512a899c"
      },
      "execution_count": 38,
      "outputs": [
        {
          "output_type": "execute_result",
          "data": {
            "text/plain": [
              "array([5, 6, 7, 8, 9])"
            ]
          },
          "metadata": {},
          "execution_count": 38
        }
      ]
    },
    {
      "cell_type": "code",
      "source": [
        "vetA[5:-1]"
      ],
      "metadata": {
        "colab": {
          "base_uri": "https://localhost:8080/"
        },
        "id": "KV-pWrPCqiEw",
        "outputId": "9be3f70f-c459-42a3-e73b-d95b096ec1f7"
      },
      "execution_count": 39,
      "outputs": [
        {
          "output_type": "execute_result",
          "data": {
            "text/plain": [
              "array([], dtype=int64)"
            ]
          },
          "metadata": {},
          "execution_count": 39
        }
      ]
    },
    {
      "cell_type": "markdown",
      "source": [
        "###Crie uma matriz 5x5"
      ],
      "metadata": {
        "id": "IJKJGQAxswQv"
      }
    },
    {
      "cell_type": "code",
      "source": [
        "matriz=np.arange(25).reshape(5,5)"
      ],
      "metadata": {
        "id": "AcQbLyFqsOBF"
      },
      "execution_count": 40,
      "outputs": []
    },
    {
      "cell_type": "markdown",
      "source": [
        "###Exiba a matriz inteira"
      ],
      "metadata": {
        "id": "-SA3h4Tcty_q"
      }
    },
    {
      "cell_type": "code",
      "source": [
        "matriz"
      ],
      "metadata": {
        "colab": {
          "base_uri": "https://localhost:8080/"
        },
        "id": "050a96TJsNsQ",
        "outputId": "635c38db-ecf3-4e2a-a4d1-cdda9d9075f0"
      },
      "execution_count": 41,
      "outputs": [
        {
          "output_type": "execute_result",
          "data": {
            "text/plain": [
              "array([[ 0,  1,  2,  3,  4],\n",
              "       [ 5,  6,  7,  8,  9],\n",
              "       [10, 11, 12, 13, 14],\n",
              "       [15, 16, 17, 18, 19],\n",
              "       [20, 21, 22, 23, 24]])"
            ]
          },
          "metadata": {},
          "execution_count": 41
        }
      ]
    },
    {
      "cell_type": "markdown",
      "source": [
        "###Exiba todos os elementos da coluna 3"
      ],
      "metadata": {
        "id": "L07y2A5lt31O"
      }
    },
    {
      "cell_type": "code",
      "source": [
        "matriz[0:5,2:3]"
      ],
      "metadata": {
        "colab": {
          "base_uri": "https://localhost:8080/"
        },
        "id": "bJz0hV48t7sg",
        "outputId": "f9b4a660-162d-46bf-9b04-57ffbbdbaf85"
      },
      "execution_count": 49,
      "outputs": [
        {
          "output_type": "execute_result",
          "data": {
            "text/plain": [
              "array([[ 2],\n",
              "       [ 7],\n",
              "       [12],\n",
              "       [17],\n",
              "       [22]])"
            ]
          },
          "metadata": {},
          "execution_count": 49
        }
      ]
    },
    {
      "cell_type": "markdown",
      "source": [
        "###Exiba todos os elementos da linha 2"
      ],
      "metadata": {
        "id": "9GBAPNGqyLVx"
      }
    },
    {
      "cell_type": "code",
      "source": [
        "matriz[1]"
      ],
      "metadata": {
        "colab": {
          "base_uri": "https://localhost:8080/"
        },
        "id": "KA9cm0TwyQoP",
        "outputId": "285e8a25-b97d-4503-af01-63af2117b278"
      },
      "execution_count": 50,
      "outputs": [
        {
          "output_type": "execute_result",
          "data": {
            "text/plain": [
              "array([5, 6, 7, 8, 9])"
            ]
          },
          "metadata": {},
          "execution_count": 50
        }
      ]
    },
    {
      "cell_type": "markdown",
      "source": [
        "###Exiba todos os elementos das 2 primeiras colunas"
      ],
      "metadata": {
        "id": "-GEoZB9MyXz_"
      }
    },
    {
      "cell_type": "code",
      "source": [
        "matriz[0:5,0:2]"
      ],
      "metadata": {
        "colab": {
          "base_uri": "https://localhost:8080/"
        },
        "id": "T9sHuQQ7yZek",
        "outputId": "66870f56-14da-46ab-e8c8-ee07689b8e79"
      },
      "execution_count": 51,
      "outputs": [
        {
          "output_type": "execute_result",
          "data": {
            "text/plain": [
              "array([[ 0,  1],\n",
              "       [ 5,  6],\n",
              "       [10, 11],\n",
              "       [15, 16],\n",
              "       [20, 21]])"
            ]
          },
          "metadata": {},
          "execution_count": 51
        }
      ]
    },
    {
      "cell_type": "markdown",
      "source": [
        "###Exiba todos os elementos das 2 primeiras linhas"
      ],
      "metadata": {
        "id": "tGIIzUE4ynn5"
      }
    },
    {
      "cell_type": "code",
      "source": [
        "matriz[0:2]"
      ],
      "metadata": {
        "colab": {
          "base_uri": "https://localhost:8080/"
        },
        "id": "u27H9oJyytk-",
        "outputId": "aa2606b6-ebd8-447f-ebb5-e0b5853683b7"
      },
      "execution_count": 52,
      "outputs": [
        {
          "output_type": "execute_result",
          "data": {
            "text/plain": [
              "array([[0, 1, 2, 3, 4],\n",
              "       [5, 6, 7, 8, 9]])"
            ]
          },
          "metadata": {},
          "execution_count": 52
        }
      ]
    },
    {
      "cell_type": "markdown",
      "source": [
        "###Exiba Apenas os elementos das 2 últimas linhas e das 4 últimas colunas"
      ],
      "metadata": {
        "id": "vyHRoUv4yyXi"
      }
    },
    {
      "cell_type": "code",
      "source": [
        "matriz[-2:,-4:]"
      ],
      "metadata": {
        "colab": {
          "base_uri": "https://localhost:8080/"
        },
        "id": "qyHesUGgzB9X",
        "outputId": "c84700bc-a309-46fc-80b9-824ae0b2cc4b"
      },
      "execution_count": 56,
      "outputs": [
        {
          "output_type": "execute_result",
          "data": {
            "text/plain": [
              "array([[16, 17, 18, 19],\n",
              "       [21, 22, 23, 24]])"
            ]
          },
          "metadata": {},
          "execution_count": 56
        }
      ]
    },
    {
      "cell_type": "markdown",
      "source": [
        "###Crie uma função que receba dois vetores e realize a soma de seus valores"
      ],
      "metadata": {
        "id": "eYytyr3bzjr7"
      }
    },
    {
      "cell_type": "code",
      "source": [
        "def soma_vet(A,B):\n",
        "  return A+B"
      ],
      "metadata": {
        "id": "tp0xgYWz0KPv"
      },
      "execution_count": 64,
      "outputs": []
    },
    {
      "cell_type": "code",
      "source": [
        "A=np.array([1,2,3])\n",
        "B=np.array([4,5,6])\n",
        "A+B"
      ],
      "metadata": {
        "colab": {
          "base_uri": "https://localhost:8080/"
        },
        "id": "VQYcKOwn0jgO",
        "outputId": "b7f652c7-837e-40de-f552-4a8c2756a58a"
      },
      "execution_count": 65,
      "outputs": [
        {
          "output_type": "execute_result",
          "data": {
            "text/plain": [
              "array([5, 7, 9])"
            ]
          },
          "metadata": {},
          "execution_count": 65
        }
      ]
    },
    {
      "cell_type": "code",
      "source": [
        "soma_vet(A,B)"
      ],
      "metadata": {
        "colab": {
          "base_uri": "https://localhost:8080/"
        },
        "id": "s14nt0xg1Dsh",
        "outputId": "0311cf0e-49c9-40c7-bbf9-ef447be53063"
      },
      "execution_count": 66,
      "outputs": [
        {
          "output_type": "execute_result",
          "data": {
            "text/plain": [
              "array([5, 7, 9])"
            ]
          },
          "metadata": {},
          "execution_count": 66
        }
      ]
    },
    {
      "cell_type": "markdown",
      "source": [
        "###Generalize a função acima para que ela receba uma string representando a operação a ser executada: '+' ou '-'"
      ],
      "metadata": {
        "id": "8bprtBTNz3rT"
      }
    },
    {
      "cell_type": "code",
      "source": [
        "def oper_vet(A,B,operacao):\n",
        "  if operacao == '+':\n",
        "    return A+B\n",
        "  elif operacao == '-':\n",
        "    return A-B\n",
        "  else:\n",
        "    print('Operação Inválida')"
      ],
      "metadata": {
        "id": "4KJ0bX2w1SZ9"
      },
      "execution_count": 73,
      "outputs": []
    },
    {
      "cell_type": "code",
      "source": [
        "oper_vet(A,B,'+')"
      ],
      "metadata": {
        "colab": {
          "base_uri": "https://localhost:8080/"
        },
        "id": "S60wSqez1uIG",
        "outputId": "2c9b9f68-5cfd-4f4b-c888-86bc1cdc3517"
      },
      "execution_count": 75,
      "outputs": [
        {
          "output_type": "execute_result",
          "data": {
            "text/plain": [
              "array([5, 7, 9])"
            ]
          },
          "metadata": {},
          "execution_count": 75
        }
      ]
    },
    {
      "cell_type": "code",
      "source": [
        "oper_vet(A,B,'-')"
      ],
      "metadata": {
        "colab": {
          "base_uri": "https://localhost:8080/"
        },
        "id": "52yHghLa2FcU",
        "outputId": "e33ce919-ff0f-4f45-c776-1e871b37d95b"
      },
      "execution_count": 76,
      "outputs": [
        {
          "output_type": "execute_result",
          "data": {
            "text/plain": [
              "array([-3, -3, -3])"
            ]
          },
          "metadata": {},
          "execution_count": 76
        }
      ]
    },
    {
      "cell_type": "markdown",
      "source": [
        "###Como calcular a média dos valores de uma matriz"
      ],
      "metadata": {
        "id": "KCD84Mb_z7n9"
      }
    },
    {
      "cell_type": "code",
      "source": [
        "matriz.mean()"
      ],
      "metadata": {
        "colab": {
          "base_uri": "https://localhost:8080/"
        },
        "id": "lJWyYCoo2LMm",
        "outputId": "04c28827-3970-4981-c15b-982b647a3956"
      },
      "execution_count": 77,
      "outputs": [
        {
          "output_type": "execute_result",
          "data": {
            "text/plain": [
              "12.0"
            ]
          },
          "metadata": {},
          "execution_count": 77
        }
      ]
    },
    {
      "cell_type": "markdown",
      "source": [
        "###Calcule apenas a média das linhas"
      ],
      "metadata": {
        "id": "3v58U7kEz9uX"
      }
    },
    {
      "cell_type": "code",
      "source": [
        "matriz[0].mean()"
      ],
      "metadata": {
        "colab": {
          "base_uri": "https://localhost:8080/"
        },
        "id": "7BcpRnXT2VWy",
        "outputId": "ff697963-6aee-42c1-e095-ebd685f74d2a"
      },
      "execution_count": 86,
      "outputs": [
        {
          "output_type": "execute_result",
          "data": {
            "text/plain": [
              "2.0"
            ]
          },
          "metadata": {},
          "execution_count": 86
        }
      ]
    },
    {
      "cell_type": "code",
      "source": [
        "media_linha = []\n",
        "for i in range(0,5):\n",
        "  media = matriz[i].mean()\n",
        "  media_linha.append(media)\n",
        "  print(i, media_linha[i])"
      ],
      "metadata": {
        "colab": {
          "base_uri": "https://localhost:8080/"
        },
        "id": "8Sm6aGvh2eln",
        "outputId": "a00de56b-6281-4970-9658-10b1d60201fc"
      },
      "execution_count": 84,
      "outputs": [
        {
          "output_type": "stream",
          "name": "stdout",
          "text": [
            "0 2.0\n",
            "1 7.0\n",
            "2 12.0\n",
            "3 17.0\n",
            "4 22.0\n"
          ]
        }
      ]
    },
    {
      "cell_type": "markdown",
      "source": [
        "###Calcule apenas a média das colunas"
      ],
      "metadata": {
        "id": "OMu86atUZE74"
      }
    },
    {
      "cell_type": "code",
      "source": [
        "matriz[0:,0:1].mean()"
      ],
      "metadata": {
        "colab": {
          "base_uri": "https://localhost:8080/"
        },
        "id": "Ej1cGMq83rOC",
        "outputId": "1fb81c1e-3373-43e1-9c2d-786e401d3f61"
      },
      "execution_count": 89,
      "outputs": [
        {
          "output_type": "execute_result",
          "data": {
            "text/plain": [
              "10.0"
            ]
          },
          "metadata": {},
          "execution_count": 89
        }
      ]
    },
    {
      "cell_type": "code",
      "source": [
        "media_col = []\n",
        "for i in range(0,5):\n",
        "  media = matriz[0:,i:i+1].mean()\n",
        "  media_col.append(media)\n",
        "  print(i, media_col[i])"
      ],
      "metadata": {
        "colab": {
          "base_uri": "https://localhost:8080/"
        },
        "id": "YmRp8wsk3yZB",
        "outputId": "1e4a28aa-078c-4a8d-904b-92df7fa43114"
      },
      "execution_count": 90,
      "outputs": [
        {
          "output_type": "stream",
          "name": "stdout",
          "text": [
            "0 10.0\n",
            "1 11.0\n",
            "2 12.0\n",
            "3 13.0\n",
            "4 14.0\n"
          ]
        }
      ]
    }
  ]
}